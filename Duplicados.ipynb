{
 "cells": [
  {
   "cell_type": "code",
   "execution_count": 52,
   "metadata": {
    "collapsed": false
   },
   "outputs": [],
   "source": [
    "from pandas import DataFrame \n",
    "import pandas as pd"
   ]
  },
  {
   "cell_type": "code",
   "execution_count": 15,
   "metadata": {
    "collapsed": false
   },
   "outputs": [],
   "source": [
    "df_foto = DataFrame.from_csv('./jpg_foto.txt', index_col=None)\n",
    "df_foto.columns = ['path']"
   ]
  },
  {
   "cell_type": "code",
   "execution_count": 6,
   "metadata": {
    "collapsed": false
   },
   "outputs": [
    {
     "data": {
      "text/plain": [
       "15413"
      ]
     },
     "execution_count": 6,
     "metadata": {},
     "output_type": "execute_result"
    }
   ],
   "source": [
    "len(df_foto)"
   ]
  },
  {
   "cell_type": "code",
   "execution_count": 80,
   "metadata": {
    "collapsed": false
   },
   "outputs": [],
   "source": [
    "df_foto.path = df_foto.path.str[1:]"
   ]
  },
  {
   "cell_type": "code",
   "execution_count": 16,
   "metadata": {
    "collapsed": true
   },
   "outputs": [],
   "source": [
    "df_foto_org = DataFrame.from_csv('jpg_foto_org.txt', index_col=None)\n",
    "df_foto_org.columns = ['path']"
   ]
  },
  {
   "cell_type": "code",
   "execution_count": 8,
   "metadata": {
    "collapsed": false
   },
   "outputs": [
    {
     "data": {
      "text/plain": [
       "30491"
      ]
     },
     "execution_count": 8,
     "metadata": {},
     "output_type": "execute_result"
    }
   ],
   "source": [
    "len(df_foto_org)"
   ]
  },
  {
   "cell_type": "code",
   "execution_count": 81,
   "metadata": {
    "collapsed": true
   },
   "outputs": [],
   "source": [
    "df_foto_org.path = df_foto_org.path.str[1:]"
   ]
  },
  {
   "cell_type": "code",
   "execution_count": 17,
   "metadata": {
    "collapsed": true
   },
   "outputs": [],
   "source": [
    "df_foto_org2 = DataFrame.from_csv('jpg_foto_org2.txt', index_col=None)\n",
    "df_foto_org2.columns = ['path']"
   ]
  },
  {
   "cell_type": "code",
   "execution_count": 18,
   "metadata": {
    "collapsed": false
   },
   "outputs": [
    {
     "data": {
      "text/plain": [
       "15058"
      ]
     },
     "execution_count": 18,
     "metadata": {},
     "output_type": "execute_result"
    }
   ],
   "source": [
    "len(df_foto_org2)"
   ]
  },
  {
   "cell_type": "code",
   "execution_count": 82,
   "metadata": {
    "collapsed": true
   },
   "outputs": [],
   "source": [
    "df_foto_org2.path = df_foto_org2.path.str[1:]"
   ]
  },
  {
   "cell_type": "code",
   "execution_count": 25,
   "metadata": {
    "collapsed": false
   },
   "outputs": [],
   "source": [
    "df_foto['nome'] = df_foto.path.apply(lambda x : x[x.rfind('/')+1:])\n",
    "df_foto_org['nome'] = df_foto_org.path.apply(lambda x : x[x.rfind('/')+1:])\n",
    "df_foto_org2['nome'] = df_foto_org2.path.apply(lambda x : x[x.rfind('/')+1:])\n"
   ]
  },
  {
   "cell_type": "code",
   "execution_count": 30,
   "metadata": {
    "collapsed": false
   },
   "outputs": [],
   "source": [
    "foto = df_foto.nome.tolist()\n",
    "foto_org = df_foto_org.nome.tolist()"
   ]
  },
  {
   "cell_type": "code",
   "execution_count": 35,
   "metadata": {
    "collapsed": false
   },
   "outputs": [],
   "source": [
    "dupl = list(set(foto).intersection(set(foto_org)))"
   ]
  },
  {
   "cell_type": "code",
   "execution_count": 39,
   "metadata": {
    "collapsed": false,
    "scrolled": true
   },
   "outputs": [
    {
     "data": {
      "text/plain": [
       "14911"
      ]
     },
     "execution_count": 39,
     "metadata": {},
     "output_type": "execute_result"
    }
   ],
   "source": [
    "len(dupl)"
   ]
  },
  {
   "cell_type": "code",
   "execution_count": 44,
   "metadata": {
    "collapsed": false
   },
   "outputs": [],
   "source": [
    "dupl = DataFrame(dupl)\n",
    "dupl.columns = ['nome']"
   ]
  },
  {
   "cell_type": "code",
   "execution_count": 64,
   "metadata": {
    "collapsed": false
   },
   "outputs": [
    {
     "data": {
      "text/plain": [
       "502"
      ]
     },
     "execution_count": 64,
     "metadata": {},
     "output_type": "execute_result"
    }
   ],
   "source": [
    "not_moved = list(set(foto)-set(foto_org))\n",
    "len(not_moved)"
   ]
  },
  {
   "cell_type": "code",
   "execution_count": 65,
   "metadata": {
    "collapsed": false
   },
   "outputs": [
    {
     "data": {
      "text/plain": [
       "False    14911\n",
       "True       502\n",
       "dtype: int64"
      ]
     },
     "execution_count": 65,
     "metadata": {},
     "output_type": "execute_result"
    }
   ],
   "source": [
    "df_foto.nome.isin( not_moved).value_counts()"
   ]
  },
  {
   "cell_type": "code",
   "execution_count": 68,
   "metadata": {
    "collapsed": false
   },
   "outputs": [],
   "source": [
    "df_not_moved =  df_foto[df_foto.nome.isin(not_moved)]"
   ]
  },
  {
   "cell_type": "code",
   "execution_count": 70,
   "metadata": {
    "collapsed": false
   },
   "outputs": [
    {
     "data": {
      "text/plain": [
       "502"
      ]
     },
     "execution_count": 70,
     "metadata": {},
     "output_type": "execute_result"
    }
   ],
   "source": [
    "len(df_not_moved)"
   ]
  },
  {
   "cell_type": "code",
   "execution_count": 72,
   "metadata": {
    "collapsed": false
   },
   "outputs": [
    {
     "ename": "NameError",
     "evalue": "name 'df_not_movedO' is not defined",
     "output_type": "error",
     "traceback": [
      "\u001b[1;31m---------------------------------------------------------------------------\u001b[0m",
      "\u001b[1;31mNameError\u001b[0m                                 Traceback (most recent call last)",
      "\u001b[1;32m<ipython-input-72-65e396a898f2>\u001b[0m in \u001b[0;36m<module>\u001b[1;34m()\u001b[0m\n\u001b[1;32m----> 1\u001b[1;33m \u001b[0mdf_not_movedO\u001b[0m\u001b[1;33m\u001b[0m\u001b[0m\n\u001b[0m",
      "\u001b[1;31mNameError\u001b[0m: name 'df_not_movedO' is not defined"
     ]
    }
   ],
   "source": [
    "df_not_movedO"
   ]
  },
  {
   "cell_type": "code",
   "execution_count": 74,
   "metadata": {
    "collapsed": true
   },
   "outputs": [],
   "source": [
    "def date_taken(file):\n",
    "    # Tags\n",
    "    ## 306: Datetime\n",
    "    ## 36867: Datetime original\n",
    "    ## 36868: Datetime digitalized\n",
    "    datetime = None\n",
    "    datetime_original = None\n",
    "    datetime_digitalized = None\n",
    "    img = Image.open(file)\n",
    "    exif = img._getexif()\n",
    "    if exif:\n",
    "        datetime = exif.get(306)\n",
    "        datetime_original = exif.get(36867)\n",
    "        datetime_digitalized = exif.get(36868)\n",
    "    img.close()\n",
    "    return datetime, datetime_original, datetime_digitalized\n",
    "\n",
    "def process_date(df):\n",
    "    for i in range(len(df)):\n",
    "        exif = date_taken(BASE_PATH+df.loc[i, 'file_path'])\n",
    "        df.loc[i,'datetime'] = exif[0]\n",
    "        df.loc[i, 'original'] = exif[1]\n",
    "        df.loc[i, 'digitalized'] = exif[2]\n",
    "  "
   ]
  },
  {
   "cell_type": "code",
   "execution_count": 75,
   "metadata": {
    "collapsed": false
   },
   "outputs": [
    {
     "ename": "NameError",
     "evalue": "name 'BASE_PATH' is not defined",
     "output_type": "error",
     "traceback": [
      "\u001b[1;31m---------------------------------------------------------------------------\u001b[0m",
      "\u001b[1;31mNameError\u001b[0m                                 Traceback (most recent call last)",
      "\u001b[1;32m<ipython-input-75-c5785caa89fd>\u001b[0m in \u001b[0;36m<module>\u001b[1;34m()\u001b[0m\n\u001b[1;32m----> 1\u001b[1;33m \u001b[0mprocess_date\u001b[0m\u001b[1;33m(\u001b[0m\u001b[0mdf_not_moved\u001b[0m\u001b[1;33m)\u001b[0m\u001b[1;33m\u001b[0m\u001b[0m\n\u001b[0m",
      "\u001b[1;32m<ipython-input-74-4abd717a4078>\u001b[0m in \u001b[0;36mprocess_date\u001b[1;34m(df)\u001b[0m\n\u001b[0;32m     17\u001b[0m \u001b[1;32mdef\u001b[0m \u001b[0mprocess_date\u001b[0m\u001b[1;33m(\u001b[0m\u001b[0mdf\u001b[0m\u001b[1;33m)\u001b[0m\u001b[1;33m:\u001b[0m\u001b[1;33m\u001b[0m\u001b[0m\n\u001b[0;32m     18\u001b[0m     \u001b[1;32mfor\u001b[0m \u001b[0mi\u001b[0m \u001b[1;32min\u001b[0m \u001b[0mrange\u001b[0m\u001b[1;33m(\u001b[0m\u001b[0mlen\u001b[0m\u001b[1;33m(\u001b[0m\u001b[0mdf\u001b[0m\u001b[1;33m)\u001b[0m\u001b[1;33m)\u001b[0m\u001b[1;33m:\u001b[0m\u001b[1;33m\u001b[0m\u001b[0m\n\u001b[1;32m---> 19\u001b[1;33m         \u001b[0mexif\u001b[0m \u001b[1;33m=\u001b[0m \u001b[0mdate_taken\u001b[0m\u001b[1;33m(\u001b[0m\u001b[0mBASE_PATH\u001b[0m\u001b[1;33m+\u001b[0m\u001b[0mdf\u001b[0m\u001b[1;33m.\u001b[0m\u001b[0mloc\u001b[0m\u001b[1;33m[\u001b[0m\u001b[0mi\u001b[0m\u001b[1;33m,\u001b[0m \u001b[1;34m'file_path'\u001b[0m\u001b[1;33m]\u001b[0m\u001b[1;33m)\u001b[0m\u001b[1;33m\u001b[0m\u001b[0m\n\u001b[0m\u001b[0;32m     20\u001b[0m         \u001b[0mdf\u001b[0m\u001b[1;33m.\u001b[0m\u001b[0mloc\u001b[0m\u001b[1;33m[\u001b[0m\u001b[0mi\u001b[0m\u001b[1;33m,\u001b[0m\u001b[1;34m'datetime'\u001b[0m\u001b[1;33m]\u001b[0m \u001b[1;33m=\u001b[0m \u001b[0mexif\u001b[0m\u001b[1;33m[\u001b[0m\u001b[1;36m0\u001b[0m\u001b[1;33m]\u001b[0m\u001b[1;33m\u001b[0m\u001b[0m\n\u001b[0;32m     21\u001b[0m         \u001b[0mdf\u001b[0m\u001b[1;33m.\u001b[0m\u001b[0mloc\u001b[0m\u001b[1;33m[\u001b[0m\u001b[0mi\u001b[0m\u001b[1;33m,\u001b[0m \u001b[1;34m'original'\u001b[0m\u001b[1;33m]\u001b[0m \u001b[1;33m=\u001b[0m \u001b[0mexif\u001b[0m\u001b[1;33m[\u001b[0m\u001b[1;36m1\u001b[0m\u001b[1;33m]\u001b[0m\u001b[1;33m\u001b[0m\u001b[0m\n",
      "\u001b[1;31mNameError\u001b[0m: name 'BASE_PATH' is not defined"
     ]
    }
   ],
   "source": [
    "process_date(df_not_moved)"
   ]
  },
  {
   "cell_type": "code",
   "execution_count": 83,
   "metadata": {
    "collapsed": false
   },
   "outputs": [
    {
     "data": {
      "text/html": [
       "<div style=\"max-height:1000px;max-width:1500px;overflow:auto;\">\n",
       "<table border=\"1\" class=\"dataframe\">\n",
       "  <thead>\n",
       "    <tr style=\"text-align: right;\">\n",
       "      <th></th>\n",
       "      <th>path</th>\n",
       "      <th>nome</th>\n",
       "    </tr>\n",
       "  </thead>\n",
       "  <tbody>\n",
       "    <tr>\n",
       "      <th>0</th>\n",
       "      <td>/recup_dir.107/f72338752.jpg</td>\n",
       "      <td>f72338752.jpg</td>\n",
       "    </tr>\n",
       "    <tr>\n",
       "      <th>1</th>\n",
       "      <td>/recup_dir.107/nota_fiscal_bestbuy.jpg</td>\n",
       "      <td>nota_fiscal_bestbuy.jpg</td>\n",
       "    </tr>\n",
       "    <tr>\n",
       "      <th>2</th>\n",
       "      <td>/recup_dir.109/f73695648.jpg</td>\n",
       "      <td>f73695648.jpg</td>\n",
       "    </tr>\n",
       "    <tr>\n",
       "      <th>3</th>\n",
       "      <td>/recup_dir.109/f73703672.jpg</td>\n",
       "      <td>f73703672.jpg</td>\n",
       "    </tr>\n",
       "    <tr>\n",
       "      <th>4</th>\n",
       "      <td>/recup_dir.109/f73745352.jpg</td>\n",
       "      <td>f73745352.jpg</td>\n",
       "    </tr>\n",
       "    <tr>\n",
       "      <th>5</th>\n",
       "      <td>/recup_dir.109/f73755352.jpg</td>\n",
       "      <td>f73755352.jpg</td>\n",
       "    </tr>\n",
       "    <tr>\n",
       "      <th>6</th>\n",
       "      <td>/recup_dir.109/f73756664.jpg</td>\n",
       "      <td>f73756664.jpg</td>\n",
       "    </tr>\n",
       "    <tr>\n",
       "      <th>7</th>\n",
       "      <td>/recup_dir.109/f73740440.jpg</td>\n",
       "      <td>f73740440.jpg</td>\n",
       "    </tr>\n",
       "    <tr>\n",
       "      <th>8</th>\n",
       "      <td>/recup_dir.109/f73769288.jpg</td>\n",
       "      <td>f73769288.jpg</td>\n",
       "    </tr>\n",
       "    <tr>\n",
       "      <th>9</th>\n",
       "      <td>/recup_dir.109/f73798256.jpg</td>\n",
       "      <td>f73798256.jpg</td>\n",
       "    </tr>\n",
       "    <tr>\n",
       "      <th>10</th>\n",
       "      <td>/recup_dir.109/f73822464.jpg</td>\n",
       "      <td>f73822464.jpg</td>\n",
       "    </tr>\n",
       "    <tr>\n",
       "      <th>11</th>\n",
       "      <td>/recup_dir.109/f73878144.jpg</td>\n",
       "      <td>f73878144.jpg</td>\n",
       "    </tr>\n",
       "    <tr>\n",
       "      <th>12</th>\n",
       "      <td>/recup_dir.109/f73984368.jpg</td>\n",
       "      <td>f73984368.jpg</td>\n",
       "    </tr>\n",
       "    <tr>\n",
       "      <th>13</th>\n",
       "      <td>/recup_dir.109/f74094064.jpg</td>\n",
       "      <td>f74094064.jpg</td>\n",
       "    </tr>\n",
       "    <tr>\n",
       "      <th>14</th>\n",
       "      <td>/recup_dir.109/f74168288.jpg</td>\n",
       "      <td>f74168288.jpg</td>\n",
       "    </tr>\n",
       "    <tr>\n",
       "      <th>15</th>\n",
       "      <td>/recup_dir.109/f74236560.jpg</td>\n",
       "      <td>f74236560.jpg</td>\n",
       "    </tr>\n",
       "    <tr>\n",
       "      <th>16</th>\n",
       "      <td>/recup_dir.109/f74334016.jpg</td>\n",
       "      <td>f74334016.jpg</td>\n",
       "    </tr>\n",
       "    <tr>\n",
       "      <th>17</th>\n",
       "      <td>/recup_dir.109/f74401736.jpg</td>\n",
       "      <td>f74401736.jpg</td>\n",
       "    </tr>\n",
       "    <tr>\n",
       "      <th>18</th>\n",
       "      <td>/recup_dir.109/f74549256.jpg</td>\n",
       "      <td>f74549256.jpg</td>\n",
       "    </tr>\n",
       "    <tr>\n",
       "      <th>19</th>\n",
       "      <td>/recup_dir.109/f74560480.jpg</td>\n",
       "      <td>f74560480.jpg</td>\n",
       "    </tr>\n",
       "    <tr>\n",
       "      <th>20</th>\n",
       "      <td>/recup_dir.109/f73789088.jpg</td>\n",
       "      <td>f73789088.jpg</td>\n",
       "    </tr>\n",
       "    <tr>\n",
       "      <th>21</th>\n",
       "      <td>/recup_dir.109/f73801736.jpg</td>\n",
       "      <td>f73801736.jpg</td>\n",
       "    </tr>\n",
       "    <tr>\n",
       "      <th>22</th>\n",
       "      <td>/recup_dir.109/f73845720.jpg</td>\n",
       "      <td>f73845720.jpg</td>\n",
       "    </tr>\n",
       "    <tr>\n",
       "      <th>23</th>\n",
       "      <td>/recup_dir.109/f73877888.jpg</td>\n",
       "      <td>f73877888.jpg</td>\n",
       "    </tr>\n",
       "    <tr>\n",
       "      <th>24</th>\n",
       "      <td>/recup_dir.109/f73972368.jpg</td>\n",
       "      <td>f73972368.jpg</td>\n",
       "    </tr>\n",
       "    <tr>\n",
       "      <th>25</th>\n",
       "      <td>/recup_dir.109/f74083768.jpg</td>\n",
       "      <td>f74083768.jpg</td>\n",
       "    </tr>\n",
       "    <tr>\n",
       "      <th>26</th>\n",
       "      <td>/recup_dir.109/f74090320.jpg</td>\n",
       "      <td>f74090320.jpg</td>\n",
       "    </tr>\n",
       "    <tr>\n",
       "      <th>27</th>\n",
       "      <td>/recup_dir.109/f74115232.jpg</td>\n",
       "      <td>f74115232.jpg</td>\n",
       "    </tr>\n",
       "    <tr>\n",
       "      <th>28</th>\n",
       "      <td>/recup_dir.109/f74115608.jpg</td>\n",
       "      <td>f74115608.jpg</td>\n",
       "    </tr>\n",
       "    <tr>\n",
       "      <th>29</th>\n",
       "      <td>/recup_dir.109/f74162304.jpg</td>\n",
       "      <td>f74162304.jpg</td>\n",
       "    </tr>\n",
       "    <tr>\n",
       "      <th>...</th>\n",
       "      <td>...</td>\n",
       "      <td>...</td>\n",
       "    </tr>\n",
       "    <tr>\n",
       "      <th>15383</th>\n",
       "      <td>/recup_dir.232/f731116256.jpg</td>\n",
       "      <td>f731116256.jpg</td>\n",
       "    </tr>\n",
       "    <tr>\n",
       "      <th>15384</th>\n",
       "      <td>/recup_dir.232/f731116608.jpg</td>\n",
       "      <td>f731116608.jpg</td>\n",
       "    </tr>\n",
       "    <tr>\n",
       "      <th>15385</th>\n",
       "      <td>/recup_dir.232/f731131504.jpg</td>\n",
       "      <td>f731131504.jpg</td>\n",
       "    </tr>\n",
       "    <tr>\n",
       "      <th>15386</th>\n",
       "      <td>/recup_dir.232/f731889024.jpg</td>\n",
       "      <td>f731889024.jpg</td>\n",
       "    </tr>\n",
       "    <tr>\n",
       "      <th>15387</th>\n",
       "      <td>/recup_dir.232/f731892960.jpg</td>\n",
       "      <td>f731892960.jpg</td>\n",
       "    </tr>\n",
       "    <tr>\n",
       "      <th>15388</th>\n",
       "      <td>/recup_dir.232/f731905488.jpg</td>\n",
       "      <td>f731905488.jpg</td>\n",
       "    </tr>\n",
       "    <tr>\n",
       "      <th>15389</th>\n",
       "      <td>/recup_dir.232/f731905744.jpg</td>\n",
       "      <td>f731905744.jpg</td>\n",
       "    </tr>\n",
       "    <tr>\n",
       "      <th>15390</th>\n",
       "      <td>/recup_dir.232/f731007832.jpg</td>\n",
       "      <td>f731007832.jpg</td>\n",
       "    </tr>\n",
       "    <tr>\n",
       "      <th>15391</th>\n",
       "      <td>/recup_dir.232/f731116896.jpg</td>\n",
       "      <td>f731116896.jpg</td>\n",
       "    </tr>\n",
       "    <tr>\n",
       "      <th>15392</th>\n",
       "      <td>/recup_dir.232/f731889952.jpg</td>\n",
       "      <td>f731889952.jpg</td>\n",
       "    </tr>\n",
       "    <tr>\n",
       "      <th>15393</th>\n",
       "      <td>/recup_dir.235/f809046950.jpg</td>\n",
       "      <td>f809046950.jpg</td>\n",
       "    </tr>\n",
       "    <tr>\n",
       "      <th>15394</th>\n",
       "      <td>/recup_dir.25/f27394336.jpg</td>\n",
       "      <td>f27394336.jpg</td>\n",
       "    </tr>\n",
       "    <tr>\n",
       "      <th>15395</th>\n",
       "      <td>/recup_dir.258/f872120984.jpg</td>\n",
       "      <td>f872120984.jpg</td>\n",
       "    </tr>\n",
       "    <tr>\n",
       "      <th>15396</th>\n",
       "      <td>/recup_dir.258/f872136656.jpg</td>\n",
       "      <td>f872136656.jpg</td>\n",
       "    </tr>\n",
       "    <tr>\n",
       "      <th>15397</th>\n",
       "      <td>/recup_dir.258/f872064208.jpg</td>\n",
       "      <td>f872064208.jpg</td>\n",
       "    </tr>\n",
       "    <tr>\n",
       "      <th>15398</th>\n",
       "      <td>/recup_dir.258/f872117512.jpg</td>\n",
       "      <td>f872117512.jpg</td>\n",
       "    </tr>\n",
       "    <tr>\n",
       "      <th>15399</th>\n",
       "      <td>/recup_dir.258/f872120752.jpg</td>\n",
       "      <td>f872120752.jpg</td>\n",
       "    </tr>\n",
       "    <tr>\n",
       "      <th>15400</th>\n",
       "      <td>/recup_dir.258/f872121288.jpg</td>\n",
       "      <td>f872121288.jpg</td>\n",
       "    </tr>\n",
       "    <tr>\n",
       "      <th>15401</th>\n",
       "      <td>/recup_dir.258/f872121688.jpg</td>\n",
       "      <td>f872121688.jpg</td>\n",
       "    </tr>\n",
       "    <tr>\n",
       "      <th>15402</th>\n",
       "      <td>/recup_dir.258/f872122024.jpg</td>\n",
       "      <td>f872122024.jpg</td>\n",
       "    </tr>\n",
       "    <tr>\n",
       "      <th>15403</th>\n",
       "      <td>/recup_dir.258/f872122336.jpg</td>\n",
       "      <td>f872122336.jpg</td>\n",
       "    </tr>\n",
       "    <tr>\n",
       "      <th>15404</th>\n",
       "      <td>/recup_dir.258/f872122872.jpg</td>\n",
       "      <td>f872122872.jpg</td>\n",
       "    </tr>\n",
       "    <tr>\n",
       "      <th>15405</th>\n",
       "      <td>/recup_dir.258/f872123448.jpg</td>\n",
       "      <td>f872123448.jpg</td>\n",
       "    </tr>\n",
       "    <tr>\n",
       "      <th>15406</th>\n",
       "      <td>/recup_dir.258/f872124000.jpg</td>\n",
       "      <td>f872124000.jpg</td>\n",
       "    </tr>\n",
       "    <tr>\n",
       "      <th>15407</th>\n",
       "      <td>/recup_dir.258/f872124816.jpg</td>\n",
       "      <td>f872124816.jpg</td>\n",
       "    </tr>\n",
       "    <tr>\n",
       "      <th>15408</th>\n",
       "      <td>/recup_dir.258/f872203128.jpg</td>\n",
       "      <td>f872203128.jpg</td>\n",
       "    </tr>\n",
       "    <tr>\n",
       "      <th>15409</th>\n",
       "      <td>/recup_dir.258/f872213544.jpg</td>\n",
       "      <td>f872213544.jpg</td>\n",
       "    </tr>\n",
       "    <tr>\n",
       "      <th>15410</th>\n",
       "      <td>/recup_dir.258/f872241280.jpg</td>\n",
       "      <td>f872241280.jpg</td>\n",
       "    </tr>\n",
       "    <tr>\n",
       "      <th>15411</th>\n",
       "      <td>/recup_dir.259/f875030114.jpg</td>\n",
       "      <td>f875030114.jpg</td>\n",
       "    </tr>\n",
       "    <tr>\n",
       "      <th>15412</th>\n",
       "      <td>/recup_dir.259/f876616386.jpg</td>\n",
       "      <td>f876616386.jpg</td>\n",
       "    </tr>\n",
       "  </tbody>\n",
       "</table>\n",
       "<p>15413 rows × 2 columns</p>\n",
       "</div>"
      ],
      "text/plain": [
       "                                         path                     nome\n",
       "0                /recup_dir.107/f72338752.jpg            f72338752.jpg\n",
       "1      /recup_dir.107/nota_fiscal_bestbuy.jpg  nota_fiscal_bestbuy.jpg\n",
       "2                /recup_dir.109/f73695648.jpg            f73695648.jpg\n",
       "3                /recup_dir.109/f73703672.jpg            f73703672.jpg\n",
       "4                /recup_dir.109/f73745352.jpg            f73745352.jpg\n",
       "5                /recup_dir.109/f73755352.jpg            f73755352.jpg\n",
       "6                /recup_dir.109/f73756664.jpg            f73756664.jpg\n",
       "7                /recup_dir.109/f73740440.jpg            f73740440.jpg\n",
       "8                /recup_dir.109/f73769288.jpg            f73769288.jpg\n",
       "9                /recup_dir.109/f73798256.jpg            f73798256.jpg\n",
       "10               /recup_dir.109/f73822464.jpg            f73822464.jpg\n",
       "11               /recup_dir.109/f73878144.jpg            f73878144.jpg\n",
       "12               /recup_dir.109/f73984368.jpg            f73984368.jpg\n",
       "13               /recup_dir.109/f74094064.jpg            f74094064.jpg\n",
       "14               /recup_dir.109/f74168288.jpg            f74168288.jpg\n",
       "15               /recup_dir.109/f74236560.jpg            f74236560.jpg\n",
       "16               /recup_dir.109/f74334016.jpg            f74334016.jpg\n",
       "17               /recup_dir.109/f74401736.jpg            f74401736.jpg\n",
       "18               /recup_dir.109/f74549256.jpg            f74549256.jpg\n",
       "19               /recup_dir.109/f74560480.jpg            f74560480.jpg\n",
       "20               /recup_dir.109/f73789088.jpg            f73789088.jpg\n",
       "21               /recup_dir.109/f73801736.jpg            f73801736.jpg\n",
       "22               /recup_dir.109/f73845720.jpg            f73845720.jpg\n",
       "23               /recup_dir.109/f73877888.jpg            f73877888.jpg\n",
       "24               /recup_dir.109/f73972368.jpg            f73972368.jpg\n",
       "25               /recup_dir.109/f74083768.jpg            f74083768.jpg\n",
       "26               /recup_dir.109/f74090320.jpg            f74090320.jpg\n",
       "27               /recup_dir.109/f74115232.jpg            f74115232.jpg\n",
       "28               /recup_dir.109/f74115608.jpg            f74115608.jpg\n",
       "29               /recup_dir.109/f74162304.jpg            f74162304.jpg\n",
       "...                                       ...                      ...\n",
       "15383           /recup_dir.232/f731116256.jpg           f731116256.jpg\n",
       "15384           /recup_dir.232/f731116608.jpg           f731116608.jpg\n",
       "15385           /recup_dir.232/f731131504.jpg           f731131504.jpg\n",
       "15386           /recup_dir.232/f731889024.jpg           f731889024.jpg\n",
       "15387           /recup_dir.232/f731892960.jpg           f731892960.jpg\n",
       "15388           /recup_dir.232/f731905488.jpg           f731905488.jpg\n",
       "15389           /recup_dir.232/f731905744.jpg           f731905744.jpg\n",
       "15390           /recup_dir.232/f731007832.jpg           f731007832.jpg\n",
       "15391           /recup_dir.232/f731116896.jpg           f731116896.jpg\n",
       "15392           /recup_dir.232/f731889952.jpg           f731889952.jpg\n",
       "15393           /recup_dir.235/f809046950.jpg           f809046950.jpg\n",
       "15394             /recup_dir.25/f27394336.jpg            f27394336.jpg\n",
       "15395           /recup_dir.258/f872120984.jpg           f872120984.jpg\n",
       "15396           /recup_dir.258/f872136656.jpg           f872136656.jpg\n",
       "15397           /recup_dir.258/f872064208.jpg           f872064208.jpg\n",
       "15398           /recup_dir.258/f872117512.jpg           f872117512.jpg\n",
       "15399           /recup_dir.258/f872120752.jpg           f872120752.jpg\n",
       "15400           /recup_dir.258/f872121288.jpg           f872121288.jpg\n",
       "15401           /recup_dir.258/f872121688.jpg           f872121688.jpg\n",
       "15402           /recup_dir.258/f872122024.jpg           f872122024.jpg\n",
       "15403           /recup_dir.258/f872122336.jpg           f872122336.jpg\n",
       "15404           /recup_dir.258/f872122872.jpg           f872122872.jpg\n",
       "15405           /recup_dir.258/f872123448.jpg           f872123448.jpg\n",
       "15406           /recup_dir.258/f872124000.jpg           f872124000.jpg\n",
       "15407           /recup_dir.258/f872124816.jpg           f872124816.jpg\n",
       "15408           /recup_dir.258/f872203128.jpg           f872203128.jpg\n",
       "15409           /recup_dir.258/f872213544.jpg           f872213544.jpg\n",
       "15410           /recup_dir.258/f872241280.jpg           f872241280.jpg\n",
       "15411           /recup_dir.259/f875030114.jpg           f875030114.jpg\n",
       "15412           /recup_dir.259/f876616386.jpg           f876616386.jpg\n",
       "\n",
       "[15413 rows x 2 columns]"
      ]
     },
     "execution_count": 83,
     "metadata": {},
     "output_type": "execute_result"
    }
   ],
   "source": []
  }
 ],
 "metadata": {
  "kernelspec": {
   "display_name": "Python 3",
   "language": "python",
   "name": "python3"
  },
  "language_info": {
   "codemirror_mode": {
    "name": "ipython",
    "version": 3
   },
   "file_extension": ".py",
   "mimetype": "text/x-python",
   "name": "python",
   "nbconvert_exporter": "python",
   "pygments_lexer": "ipython3",
   "version": "3.4.3"
  }
 },
 "nbformat": 4,
 "nbformat_minor": 0
}

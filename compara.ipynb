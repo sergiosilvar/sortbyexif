{
 "cells": [
  {
   "cell_type": "code",
   "execution_count": 1,
   "metadata": {
    "collapsed": true
   },
   "outputs": [],
   "source": [
    "import glob"
   ]
  },
  {
   "cell_type": "code",
   "execution_count": 76,
   "metadata": {
    "collapsed": false
   },
   "outputs": [],
   "source": [
    "home = glob.glob('/home/sergio/Imagens/foto_org/**/*')"
   ]
  },
  {
   "cell_type": "code",
   "execution_count": 77,
   "metadata": {
    "collapsed": false
   },
   "outputs": [
    {
     "data": {
      "text/plain": [
       "['/home/sergio/Imagens/foto_org/2012/12',\n",
       " '/home/sergio/Imagens/foto_org/2012/01',\n",
       " '/home/sergio/Imagens/foto_org/2012/03',\n",
       " '/home/sergio/Imagens/foto_org/2012/08',\n",
       " '/home/sergio/Imagens/foto_org/2012/04',\n",
       " '/home/sergio/Imagens/foto_org/2012/06',\n",
       " '/home/sergio/Imagens/foto_org/2012/11',\n",
       " '/home/sergio/Imagens/foto_org/2012/09',\n",
       " '/home/sergio/Imagens/foto_org/2012/02',\n",
       " '/home/sergio/Imagens/foto_org/2012/05',\n",
       " '/home/sergio/Imagens/foto_org/2012/10',\n",
       " '/home/sergio/Imagens/foto_org/2012/07',\n",
       " '/home/sergio/Imagens/foto_org/2007/12',\n",
       " '/home/sergio/Imagens/foto_org/2007/01',\n",
       " '/home/sergio/Imagens/foto_org/2007/03',\n",
       " '/home/sergio/Imagens/foto_org/2007/08',\n",
       " '/home/sergio/Imagens/foto_org/2007/04',\n",
       " '/home/sergio/Imagens/foto_org/2007/06',\n",
       " '/home/sergio/Imagens/foto_org/2007/11',\n",
       " '/home/sergio/Imagens/foto_org/2007/09',\n",
       " '/home/sergio/Imagens/foto_org/2007/02',\n",
       " '/home/sergio/Imagens/foto_org/2007/05',\n",
       " '/home/sergio/Imagens/foto_org/2007/10',\n",
       " '/home/sergio/Imagens/foto_org/2007/07',\n",
       " '/home/sergio/Imagens/foto_org/2008/01',\n",
       " '/home/sergio/Imagens/foto_org/2008/03',\n",
       " '/home/sergio/Imagens/foto_org/2008/08',\n",
       " '/home/sergio/Imagens/foto_org/2008/04',\n",
       " '/home/sergio/Imagens/foto_org/2008/06',\n",
       " '/home/sergio/Imagens/foto_org/2008/09',\n",
       " '/home/sergio/Imagens/foto_org/2008/02',\n",
       " '/home/sergio/Imagens/foto_org/2008/05',\n",
       " '/home/sergio/Imagens/foto_org/2008/07',\n",
       " '/home/sergio/Imagens/foto_org/0000/00',\n",
       " '/home/sergio/Imagens/foto_org/2014/12',\n",
       " '/home/sergio/Imagens/foto_org/2014/01',\n",
       " '/home/sergio/Imagens/foto_org/2014/03',\n",
       " '/home/sergio/Imagens/foto_org/2014/08',\n",
       " '/home/sergio/Imagens/foto_org/2014/04',\n",
       " '/home/sergio/Imagens/foto_org/2014/06',\n",
       " '/home/sergio/Imagens/foto_org/2014/11',\n",
       " '/home/sergio/Imagens/foto_org/2014/09',\n",
       " '/home/sergio/Imagens/foto_org/2014/02',\n",
       " '/home/sergio/Imagens/foto_org/2014/05',\n",
       " '/home/sergio/Imagens/foto_org/2014/10',\n",
       " '/home/sergio/Imagens/foto_org/2014/07',\n",
       " '/home/sergio/Imagens/foto_org/2011/12',\n",
       " '/home/sergio/Imagens/foto_org/2011/01',\n",
       " '/home/sergio/Imagens/foto_org/2011/03',\n",
       " '/home/sergio/Imagens/foto_org/2011/08',\n",
       " '/home/sergio/Imagens/foto_org/2011/04',\n",
       " '/home/sergio/Imagens/foto_org/2011/06',\n",
       " '/home/sergio/Imagens/foto_org/2011/11',\n",
       " '/home/sergio/Imagens/foto_org/2011/09',\n",
       " '/home/sergio/Imagens/foto_org/2011/02',\n",
       " '/home/sergio/Imagens/foto_org/2011/05',\n",
       " '/home/sergio/Imagens/foto_org/2011/10',\n",
       " '/home/sergio/Imagens/foto_org/2011/07',\n",
       " '/home/sergio/Imagens/foto_org/Fals/f286204048.jpg',\n",
       " '/home/sergio/Imagens/foto_org/Fals/f285205672.jpg',\n",
       " '/home/sergio/Imagens/foto_org/Fals/f285399104.jpg',\n",
       " '/home/sergio/Imagens/foto_org/Fals/f295597168.jpg',\n",
       " '/home/sergio/Imagens/foto_org/Fals/f289704344.jpg',\n",
       " '/home/sergio/Imagens/foto_org/Fals/f268173856.jpg',\n",
       " '/home/sergio/Imagens/foto_org/Fals/f438881384.jpg',\n",
       " '/home/sergio/Imagens/foto_org/Fals/f285829440.jpg',\n",
       " '/home/sergio/Imagens/foto_org/Fals/f289704960.jpg',\n",
       " '/home/sergio/Imagens/foto_org/Fals/f285392376.jpg',\n",
       " '/home/sergio/Imagens/foto_org/Fals/f446005632.jpg',\n",
       " '/home/sergio/Imagens/foto_org/Fals/f268192960.jpg',\n",
       " '/home/sergio/Imagens/foto_org/Fals/f285347888.jpg',\n",
       " '/home/sergio/Imagens/foto_org/Fals/f257782872.jpg',\n",
       " '/home/sergio/Imagens/foto_org/Fals/f340600352.jpg',\n",
       " '/home/sergio/Imagens/foto_org/Fals/f266984264.jpg',\n",
       " '/home/sergio/Imagens/foto_org/Fals/f341609464.jpg',\n",
       " '/home/sergio/Imagens/foto_org/Fals/f285590520.jpg',\n",
       " '/home/sergio/Imagens/foto_org/Fals/f284656656.jpg',\n",
       " '/home/sergio/Imagens/foto_org/Fals/f285927672.jpg',\n",
       " '/home/sergio/Imagens/foto_org/Fals/f268173440.jpg',\n",
       " '/home/sergio/Imagens/foto_org/Fals/f268174328.jpg',\n",
       " '/home/sergio/Imagens/foto_org/Fals/f289713024.jpg',\n",
       " '/home/sergio/Imagens/foto_org/Fals/f268174720.jpg',\n",
       " '/home/sergio/Imagens/foto_org/Fals/f285808696.jpg',\n",
       " '/home/sergio/Imagens/foto_org/Fals/f285234624.jpg',\n",
       " '/home/sergio/Imagens/foto_org/Fals/f286135584.jpg',\n",
       " '/home/sergio/Imagens/foto_org/Fals/f257782504.jpg',\n",
       " '/home/sergio/Imagens/foto_org/2013/12',\n",
       " '/home/sergio/Imagens/foto_org/2013/01',\n",
       " '/home/sergio/Imagens/foto_org/2013/03',\n",
       " '/home/sergio/Imagens/foto_org/2013/04',\n",
       " '/home/sergio/Imagens/foto_org/2013/06',\n",
       " '/home/sergio/Imagens/foto_org/2013/11',\n",
       " '/home/sergio/Imagens/foto_org/2013/09',\n",
       " '/home/sergio/Imagens/foto_org/2013/02',\n",
       " '/home/sergio/Imagens/foto_org/2013/05',\n",
       " '/home/sergio/Imagens/foto_org/2013/10',\n",
       " '/home/sergio/Imagens/foto_org/2013/07',\n",
       " '/home/sergio/Imagens/foto_org/2003/12',\n",
       " '/home/sergio/Imagens/foto_org/2003/03',\n",
       " '/home/sergio/Imagens/foto_org/2003/04',\n",
       " '/home/sergio/Imagens/foto_org/2003/02',\n",
       " '/home/sergio/Imagens/foto_org/2003/07',\n",
       " '/home/sergio/Imagens/foto_org/2005/12',\n",
       " '/home/sergio/Imagens/foto_org/2005/01',\n",
       " '/home/sergio/Imagens/foto_org/2005/03',\n",
       " '/home/sergio/Imagens/foto_org/2005/08',\n",
       " '/home/sergio/Imagens/foto_org/2005/06',\n",
       " '/home/sergio/Imagens/foto_org/2005/11',\n",
       " '/home/sergio/Imagens/foto_org/2005/09',\n",
       " '/home/sergio/Imagens/foto_org/2005/02',\n",
       " '/home/sergio/Imagens/foto_org/2005/05',\n",
       " '/home/sergio/Imagens/foto_org/2005/10',\n",
       " '/home/sergio/Imagens/foto_org/2005/07',\n",
       " '/home/sergio/Imagens/foto_org/2004/12',\n",
       " '/home/sergio/Imagens/foto_org/2004/01',\n",
       " '/home/sergio/Imagens/foto_org/2004/08',\n",
       " '/home/sergio/Imagens/foto_org/2004/04',\n",
       " '/home/sergio/Imagens/foto_org/2004/06',\n",
       " '/home/sergio/Imagens/foto_org/2004/11',\n",
       " '/home/sergio/Imagens/foto_org/2004/09',\n",
       " '/home/sergio/Imagens/foto_org/2004/02',\n",
       " '/home/sergio/Imagens/foto_org/2004/05',\n",
       " '/home/sergio/Imagens/foto_org/2004/10',\n",
       " '/home/sergio/Imagens/foto_org/2004/07',\n",
       " '/home/sergio/Imagens/foto_org/2006/12',\n",
       " '/home/sergio/Imagens/foto_org/2006/01',\n",
       " '/home/sergio/Imagens/foto_org/2006/03',\n",
       " '/home/sergio/Imagens/foto_org/2006/08',\n",
       " '/home/sergio/Imagens/foto_org/2006/04',\n",
       " '/home/sergio/Imagens/foto_org/2006/06',\n",
       " '/home/sergio/Imagens/foto_org/2006/11',\n",
       " '/home/sergio/Imagens/foto_org/2006/09',\n",
       " '/home/sergio/Imagens/foto_org/2006/02',\n",
       " '/home/sergio/Imagens/foto_org/2006/10',\n",
       " '/home/sergio/Imagens/foto_org/2006/07',\n",
       " '/home/sergio/Imagens/foto_org/2015/01',\n",
       " '/home/sergio/Imagens/foto_org/2009/12',\n",
       " '/home/sergio/Imagens/foto_org/2009/03',\n",
       " '/home/sergio/Imagens/foto_org/2009/08',\n",
       " '/home/sergio/Imagens/foto_org/2009/04',\n",
       " '/home/sergio/Imagens/foto_org/2009/06',\n",
       " '/home/sergio/Imagens/foto_org/2009/11',\n",
       " '/home/sergio/Imagens/foto_org/2009/02',\n",
       " '/home/sergio/Imagens/foto_org/2009/05',\n",
       " '/home/sergio/Imagens/foto_org/2009/10',\n",
       " '/home/sergio/Imagens/foto_org/2009/07',\n",
       " '/home/sergio/Imagens/foto_org/2002/10',\n",
       " '/home/sergio/Imagens/foto_org/2010/12',\n",
       " '/home/sergio/Imagens/foto_org/2010/01',\n",
       " '/home/sergio/Imagens/foto_org/2010/03',\n",
       " '/home/sergio/Imagens/foto_org/2010/08',\n",
       " '/home/sergio/Imagens/foto_org/2010/04',\n",
       " '/home/sergio/Imagens/foto_org/2010/06',\n",
       " '/home/sergio/Imagens/foto_org/2010/11',\n",
       " '/home/sergio/Imagens/foto_org/2010/09',\n",
       " '/home/sergio/Imagens/foto_org/2010/02',\n",
       " '/home/sergio/Imagens/foto_org/2010/05',\n",
       " '/home/sergio/Imagens/foto_org/2010/10',\n",
       " '/home/sergio/Imagens/foto_org/2010/07']"
      ]
     },
     "execution_count": 77,
     "metadata": {},
     "output_type": "execute_result"
    }
   ],
   "source": [
    "home"
   ]
  },
  {
   "cell_type": "code",
   "execution_count": 67,
   "metadata": {
    "collapsed": false
   },
   "outputs": [],
   "source": [
    "home = [i[i.rfind('/')+1:] for i in home]"
   ]
  },
  {
   "cell_type": "code",
   "execution_count": 68,
   "metadata": {
    "collapsed": false
   },
   "outputs": [],
   "source": [
    "hd = glob.glob('/media/sergio/WD1TB/movie_org/*')"
   ]
  },
  {
   "cell_type": "code",
   "execution_count": 69,
   "metadata": {
    "collapsed": false
   },
   "outputs": [],
   "source": [
    "hd = [i[i.rfind('/')+1:] for i in hd]"
   ]
  },
  {
   "cell_type": "code",
   "execution_count": 72,
   "metadata": {
    "collapsed": false
   },
   "outputs": [],
   "source": [
    "lista = list(set(home) - set(hd))\n",
    "#lista = list(set(hd) - set(home))"
   ]
  },
  {
   "cell_type": "code",
   "execution_count": 73,
   "metadata": {
    "collapsed": false
   },
   "outputs": [
    {
     "data": {
      "text/plain": [
       "[]"
      ]
     },
     "execution_count": 73,
     "metadata": {},
     "output_type": "execute_result"
    }
   ],
   "source": [
    "lista"
   ]
  },
  {
   "cell_type": "code",
   "execution_count": 62,
   "metadata": {
    "collapsed": false
   },
   "outputs": [],
   "source": [
    "copy = ['cp \"/media/sergio/WD1TB/movie_org/{}\" \"/home/sergio/Vídeos/movie_org/{}\"'.format(i,i) for i in lista]"
   ]
  },
  {
   "cell_type": "code",
   "execution_count": 63,
   "metadata": {
    "collapsed": false
   },
   "outputs": [
    {
     "data": {
      "text/plain": [
       "['cp \"/media/sergio/WD1TB/movie_org/convento comperj.mp4\" \"/home/sergio/Vídeos/movie_org/convento comperj.mp4\"']"
      ]
     },
     "execution_count": 63,
     "metadata": {},
     "output_type": "execute_result"
    }
   ],
   "source": [
    "copy"
   ]
  },
  {
   "cell_type": "code",
   "execution_count": 64,
   "metadata": {
    "collapsed": false
   },
   "outputs": [],
   "source": [
    "import os\n",
    "for i in copy:\n",
    "    os.system(i)\n"
   ]
  },
  {
   "cell_type": "code",
   "execution_count": 78,
   "metadata": {
    "collapsed": false
   },
   "outputs": [],
   "source": [
    "import subprocess"
   ]
  },
  {
   "cell_type": "code",
   "execution_count": null,
   "metadata": {
    "collapsed": true
   },
   "outputs": [],
   "source": []
  }
 ],
 "metadata": {
  "kernelspec": {
   "display_name": "Python 3",
   "language": "python",
   "name": "python3"
  },
  "language_info": {
   "codemirror_mode": {
    "name": "ipython",
    "version": 3
   },
   "file_extension": ".py",
   "mimetype": "text/x-python",
   "name": "python",
   "nbconvert_exporter": "python",
   "pygments_lexer": "ipython3",
   "version": "3.4.3"
  }
 },
 "nbformat": 4,
 "nbformat_minor": 0
}

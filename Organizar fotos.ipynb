{
 "cells": [
  {
   "cell_type": "code",
   "execution_count": 408,
   "metadata": {
    "collapsed": true
   },
   "outputs": [],
   "source": [
    "BASE_PATH = '/media/sergio/WD1TB/foto'\n",
    "BASE_DEST = '/media/sergio/WD1TB/foto_org2'\n",
    "file_path = '/recup_dir.260/f881370432.jpg'\n"
   ]
  },
  {
   "cell_type": "code",
   "execution_count": 18,
   "metadata": {
    "collapsed": false
   },
   "outputs": [],
   "source": [
    "import PIL.Image as Image\n",
    "import PIL.ExifTags as ExifTags"
   ]
  },
  {
   "cell_type": "code",
   "execution_count": 65,
   "metadata": {
    "collapsed": false
   },
   "outputs": [],
   "source": [
    "def date_taken(file):\n",
    "    # Tags\n",
    "    ## 306: Datetime\n",
    "    ## 36867: Datetime original\n",
    "    ## 36868: Datetime digitalized\n",
    "    datetime = None\n",
    "    datetime_original = None\n",
    "    datetime_digitalized = None\n",
    "    img = Image.open(file)\n",
    "    exif = img._getexif()\n",
    "    if exif:\n",
    "        datetime = exif.get(306)\n",
    "        datetime_original = exif.get(36867)\n",
    "        datetime_digitalized = exif.get(36868)\n",
    "    img.close()\n",
    "    return datetime, datetime_original, datetime_digitalized"
   ]
  },
  {
   "cell_type": "code",
   "execution_count": 386,
   "metadata": {
    "collapsed": false
   },
   "outputs": [],
   "source": [
    "import pandas as pd\n",
    "df = pd.DataFrame.from_csv(BASE_PATH+'/jpg_list.txt', index_col=None)\n",
    "df.columns = ['file_path']"
   ]
  },
  {
   "cell_type": "code",
   "execution_count": 389,
   "metadata": {
    "collapsed": false
   },
   "outputs": [],
   "source": [
    "df.file_path =  df.file_path.str[1:]"
   ]
  },
  {
   "cell_type": "code",
   "execution_count": 390,
   "metadata": {
    "collapsed": false
   },
   "outputs": [],
   "source": [
    "df['datetime'] = [None for i in range(len(df))]\n",
    "df['original'] = [None for i in range(len(df))]\n",
    "df['digitalized'] = [None for i in range(len(df))]\n"
   ]
  },
  {
   "cell_type": "code",
   "execution_count": 391,
   "metadata": {
    "collapsed": false
   },
   "outputs": [
    {
     "name": "stderr",
     "output_type": "stream",
     "text": [
      "/home/sergio/miniconda3/lib/python3.4/site-packages/PIL/Image.py:2221: DecompressionBombWarning: Image size (113128000 pixels) exceeds limit of 89478485 pixels, could be decompression bomb DOS attack.\n",
      "  DecompressionBombWarning)\n",
      "/home/sergio/miniconda3/lib/python3.4/site-packages/PIL/Image.py:2221: DecompressionBombWarning: Image size (143244000 pixels) exceeds limit of 89478485 pixels, could be decompression bomb DOS attack.\n",
      "  DecompressionBombWarning)\n"
     ]
    }
   ],
   "source": [
    "for i in range(len(df)):\n",
    "    exif = date_taken(BASE_PATH+df.loc[i, 'file_path'])\n",
    "    df.loc[i,'datetime'] = exif[0]\n",
    "    df.loc[i, 'original'] = exif[1]\n",
    "    df.loc[i, 'digitalized'] = exif[2]\n",
    "  "
   ]
  },
  {
   "cell_type": "code",
   "execution_count": 392,
   "metadata": {
    "collapsed": false
   },
   "outputs": [],
   "source": [
    "df['no_date'] =  df.datetime.isnull() &  df.original.isnull() & df.digitalized.isnull()"
   ]
  },
  {
   "cell_type": "code",
   "execution_count": 393,
   "metadata": {
    "collapsed": false
   },
   "outputs": [
    {
     "data": {
      "text/plain": [
       "file_path        0\n",
       "datetime       321\n",
       "original       363\n",
       "digitalized    430\n",
       "no_date          0\n",
       "dtype: int64"
      ]
     },
     "execution_count": 393,
     "metadata": {},
     "output_type": "execute_result"
    }
   ],
   "source": [
    "df.isnull().sum()"
   ]
  },
  {
   "cell_type": "code",
   "execution_count": 394,
   "metadata": {
    "collapsed": false
   },
   "outputs": [
    {
     "data": {
      "text/plain": [
       "15570"
      ]
     },
     "execution_count": 394,
     "metadata": {},
     "output_type": "execute_result"
    }
   ],
   "source": [
    "len(df)"
   ]
  },
  {
   "cell_type": "code",
   "execution_count": 395,
   "metadata": {
    "collapsed": false
   },
   "outputs": [],
   "source": [
    "df.to_csv(BASE_PATH+'/jpg_org.txt', sep=';', index=False)\n",
    "#df = pd.DataFrame.from_csv(BASE_PATH+'/jpg_org.txt', sep=';', index_col=None)"
   ]
  },
  {
   "cell_type": "code",
   "execution_count": 396,
   "metadata": {
    "collapsed": false
   },
   "outputs": [],
   "source": [
    "df['fname'] = None"
   ]
  },
  {
   "cell_type": "code",
   "execution_count": 397,
   "metadata": {
    "collapsed": false
   },
   "outputs": [],
   "source": [
    "df.fname = df[df.original.isnull() == False].original"
   ]
  },
  {
   "cell_type": "code",
   "execution_count": 398,
   "metadata": {
    "collapsed": false
   },
   "outputs": [
    {
     "data": {
      "text/plain": [
       "363"
      ]
     },
     "execution_count": 398,
     "metadata": {},
     "output_type": "execute_result"
    }
   ],
   "source": [
    "df.fname.isnull().sum()"
   ]
  },
  {
   "cell_type": "code",
   "execution_count": 399,
   "metadata": {
    "collapsed": false
   },
   "outputs": [
    {
     "name": "stderr",
     "output_type": "stream",
     "text": [
      "/home/sergio/miniconda3/lib/python3.4/site-packages/pandas/core/generic.py:2005: SettingWithCopyWarning: \n",
      "A value is trying to be set on a copy of a slice from a DataFrame.\n",
      "Try using .loc[row_indexer,col_indexer] = value instead\n",
      "\n",
      "See the the caveats in the documentation: http://pandas.pydata.org/pandas-docs/stable/indexing.html#indexing-view-versus-copy\n",
      "  self[name] = value\n"
     ]
    }
   ],
   "source": [
    "idx = (df.fname.isnull()==True)  & (df.datetime.isnull()==False)\n",
    "df.loc[idx].fname = df[idx].datetime"
   ]
  },
  {
   "cell_type": "code",
   "execution_count": 400,
   "metadata": {
    "collapsed": false
   },
   "outputs": [
    {
     "data": {
      "text/plain": [
       "363"
      ]
     },
     "execution_count": 400,
     "metadata": {},
     "output_type": "execute_result"
    }
   ],
   "source": [
    "df.fname.isnull().sum()"
   ]
  },
  {
   "cell_type": "code",
   "execution_count": 401,
   "metadata": {
    "collapsed": false
   },
   "outputs": [],
   "source": [
    "idx = (df.fname.isnull()==True)  & (df.digitalized.isnull()==False)\n",
    "df.loc[idx].fname = df[idx].digitalized"
   ]
  },
  {
   "cell_type": "code",
   "execution_count": 402,
   "metadata": {
    "collapsed": false
   },
   "outputs": [
    {
     "data": {
      "text/plain": [
       "file_path        0\n",
       "datetime       321\n",
       "original       363\n",
       "digitalized    430\n",
       "no_date          0\n",
       "fname          363\n",
       "dtype: int64"
      ]
     },
     "execution_count": 402,
     "metadata": {},
     "output_type": "execute_result"
    }
   ],
   "source": [
    "df.isnull().sum()"
   ]
  },
  {
   "cell_type": "code",
   "execution_count": 403,
   "metadata": {
    "collapsed": false
   },
   "outputs": [],
   "source": [
    "df['year'] = df.fname.str[:4]\n",
    "df['month'] = df.fname.str[5:7]\n",
    "df['day'] = df.fname.str[8:10]\n",
    "df['hour'] = df.fname.str[11:13]\n",
    "df['minute'] = df.fname.str[14:16]\n",
    "df['second'] = df.fname.str[17:19]"
   ]
  },
  {
   "cell_type": "code",
   "execution_count": 404,
   "metadata": {
    "collapsed": false
   },
   "outputs": [],
   "source": [
    "df['fname_dest'] = df.year  + df.month + df.day + '_' + df.hour + df.minute + df.second\n",
    "df['folder_dest'] = '/' + df.year+'/'+df.month+'/'+df.day"
   ]
  },
  {
   "cell_type": "code",
   "execution_count": 405,
   "metadata": {
    "collapsed": false
   },
   "outputs": [],
   "source": [
    "df['file_name'] = df.file_path.apply(lambda x : x[x.rfind('/')+1:])"
   ]
  },
  {
   "cell_type": "code",
   "execution_count": 409,
   "metadata": {
    "collapsed": false
   },
   "outputs": [],
   "source": [
    "dfx = df[df.fname.isnull()==False]\n",
    "dest = 'mv ' + BASE_PATH  + dfx.file_path + ' ' + BASE_DEST + '/' + dfx.year + '/' + dfx.month + '/' + dfx.day\n"
   ]
  },
  {
   "cell_type": "code",
   "execution_count": 412,
   "metadata": {
    "collapsed": false
   },
   "outputs": [
    {
     "name": "stdout",
     "output_type": "stream",
     "text": [
      "mv /media/sergio/WD1TB/foto/recup_dir.264/f919764296.jpg /media/sergio/WD1TB/foto_org2/2010/09/07\n"
     ]
    }
   ],
   "source": [
    "print(dest.iloc[0])"
   ]
  },
  {
   "cell_type": "code",
   "execution_count": 413,
   "metadata": {
    "collapsed": false
   },
   "outputs": [],
   "source": [
    "# Cria pastas com base na data.\n",
    "import os \n",
    "\n",
    "folders = BASE_DEST + '/' + dfx.year + '/' + dfx.month + '/' + dfx.day\n",
    "\n",
    "def mkdir(x):\n",
    "    if not os.path.exists(x):\n",
    "        os.makedirs(x)\n",
    "\n",
    "folders.apply(mkdir);\n"
   ]
  },
  {
   "cell_type": "code",
   "execution_count": 414,
   "metadata": {
    "collapsed": false
   },
   "outputs": [],
   "source": [
    "dest[10:].to_csv('mover_fotos2.txt', index=None)"
   ]
  }
 ],
 "metadata": {
  "kernelspec": {
   "display_name": "Python 3",
   "language": "python",
   "name": "python3"
  },
  "language_info": {
   "codemirror_mode": {
    "name": "ipython",
    "version": 3
   },
   "file_extension": ".py",
   "mimetype": "text/x-python",
   "name": "python",
   "nbconvert_exporter": "python",
   "pygments_lexer": "ipython3",
   "version": "3.4.3"
  }
 },
 "nbformat": 4,
 "nbformat_minor": 0
}
